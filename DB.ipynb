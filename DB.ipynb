{
 "cells": [
  {
   "cell_type": "code",
   "execution_count": null,
   "id": "3988629e",
   "metadata": {},
   "outputs": [],
   "source": [
    "import streamlit as st\n",
    "import pandas as pd\n",
    "import gspread\n",
    "from oauth2client.service_account import ServiceAccountCredentials\n",
    "\n",
    "# --- Cấu hình ---\n",
    "SPREADSHEET_ID = \"1qsGHOEEQRlFAitOsQ3i-P9E5_sLpyi1nERMyySi5l7U\"\n",
    "SHEET_NAME = \"Data\"\n",
    "CREDENTIALS_FILE = \"famous-analyzer-458803-n6-aa0f7555cf4f.json\"\n",
    "\n",
    "# --- Kết nối Google Sheet ---\n",
    "@st.cache_data(ttl=60)\n",
    "def load_data():\n",
    "    scope = [\n",
    "        \"https://spreadsheets.google.com/feeds\",\n",
    "        \"https://www.googleapis.com/auth/drive\"\n",
    "    ]\n",
    "    creds = ServiceAccountCredentials.from_json_keyfile_name(CREDENTIALS_FILE, scope)\n",
    "    client = gspread.authorize(creds)\n",
    "    sheet = client.open_by_key(SPREADSHEET_ID).worksheet(SHEET_NAME)\n",
    "    data = sheet.get_all_records()\n",
    "    df = pd.DataFrame(data)\n",
    "    return df\n",
    "\n",
    "# --- Giao diện Streamlit ---\n",
    "st.title(\"📊 Dashboard từ Google Sheet riêng tư\")\n",
    "try:\n",
    "    df = load_data()\n",
    "    st.success(\"✅ Dữ liệu đã tải thành công.\")\n",
    "    st.dataframe(df)\n",
    "\n",
    "    if \"Doanh thu\" in df.columns and \"Ngày\" in df.columns:\n",
    "        df[\"Ngày\"] = pd.to_datetime(df[\"Ngày\"])\n",
    "        st.line_chart(df.set_index(\"Ngày\")[\"Doanh thu\"])\n",
    "    else:\n",
    "        st.warning(\"Không có cột 'Ngày' hoặc 'Doanh thu' để hiển thị biểu đồ.\")\n",
    "\n",
    "except Exception as e:\n",
    "    st.error(f\"❌ Lỗi khi tải dữ liệu: {e}\")"
   ]
  }
 ],
 "metadata": {
  "kernelspec": {
   "display_name": "Python 3 (ipykernel)",
   "language": "python",
   "name": "python3"
  },
  "language_info": {
   "codemirror_mode": {
    "name": "ipython",
    "version": 3
   },
   "file_extension": ".py",
   "mimetype": "text/x-python",
   "name": "python",
   "nbconvert_exporter": "python",
   "pygments_lexer": "ipython3",
   "version": "3.9.12"
  }
 },
 "nbformat": 4,
 "nbformat_minor": 5
}
